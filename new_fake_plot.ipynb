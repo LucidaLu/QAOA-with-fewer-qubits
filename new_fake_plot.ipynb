{
 "cells": [
  {
   "cell_type": "code",
   "execution_count": null,
   "metadata": {},
   "outputs": [],
   "source": []
  },
  {
   "cell_type": "code",
   "execution_count": 2,
   "metadata": {},
   "outputs": [
    {
     "ename": "NameError",
     "evalue": "name 'np' is not defined",
     "output_type": "error",
     "traceback": [
      "\u001b[0;31m---------------------------------------------------------------------------\u001b[0m",
      "\u001b[0;31mNameError\u001b[0m                                 Traceback (most recent call last)",
      "Cell \u001b[0;32mIn[2], line 1\u001b[0m\n\u001b[0;32m----> 1\u001b[0m gurobi_cut \u001b[38;5;241m=\u001b[39m \u001b[43mnp\u001b[49m\u001b[38;5;241m.\u001b[39mzeros((\u001b[38;5;241m100\u001b[39m, \u001b[38;5;241m2000\u001b[39m), dtype\u001b[38;5;241m=\u001b[39m\u001b[38;5;28mint\u001b[39m)\n\u001b[1;32m      2\u001b[0m \u001b[38;5;28;01mimport\u001b[39;00m \u001b[38;5;21;01mjson\u001b[39;00m\n\u001b[1;32m      4\u001b[0m data \u001b[38;5;241m=\u001b[39m {}\n",
      "\u001b[0;31mNameError\u001b[0m: name 'np' is not defined"
     ]
    }
   ],
   "source": [
    "gurobi_cut = np.zeros((100, 2000), dtype=int)\n",
    "import json\n",
    "\n",
    "data = {}\n",
    "ser = []\n",
    "with open(\"cut_result\") as f:\n",
    "    for i in f.readlines():\n",
    "        i = i.replace(\"inf\", \"1e100\")\n",
    "        d = eval(i)\n",
    "        for n, seed, lb, ub in d:\n",
    "            # assert abs(lb - ub) < 1e-6\n",
    "            gurobi_cut[n, seed] = ub\n",
    "            if n not in data:\n",
    "                data[n] = {}\n",
    "            data[n][seed] = {\"upper bound\": ub}\n",
    "            # assert abs(gurobi_cut[n, seed] - ub) < 1e-6\n",
    "\n",
    "# json.dump(data, open(\"data/cut_upperbounds.json\", \"w\"))"
   ]
  },
  {
   "cell_type": "code",
   "execution_count": null,
   "metadata": {},
   "outputs": [],
   "source": [
    "import itertools\n",
    "\n",
    "\n",
    "def read_chain(x):\n",
    "    with open(x, \"r\") as f:\n",
    "        return list(itertools.chain.from_iterable(map(eval, f.readlines())))\n",
    "\n",
    "\n",
    "def work(file, entry):\n",
    "    raw = read_chain(file)\n",
    "    a, b = entry.split(\"-\")\n",
    "    for n, seed, _, _, ans in raw:\n",
    "        if a not in data[n][seed]:\n",
    "            data[n][seed][a] = {}\n",
    "        data[n][seed][a][b] = ans\n",
    "\n",
    "\n",
    "work(\"approx0.95\", \"3/4-0.95\")\n",
    "work(\"approx1\", \"3/4-1\")\n",
    "\n",
    "work(\"approx230.95\", \"2/3-0.95\")\n",
    "work(\"approx231\", \"2/3-1\")\n",
    "\n",
    "json.dump(data, open(\"data/scaling.json\", \"w\"))"
   ]
  },
  {
   "cell_type": "code",
   "execution_count": 1,
   "metadata": {},
   "outputs": [],
   "source": [
    "import json\n",
    "import numpy as np\n",
    "\n",
    "data = json.load(open(\"data/scaling.json\"))\n",
    "\n",
    "from rsmf import CustomFormatter\n",
    "\n",
    "formatter = CustomFormatter(\n",
    "    columnwidth=390 * 0.01389,\n",
    "    wide_columnwidth=542.02501 * 0.01389,\n",
    "    fontsizes=12,\n",
    "    pgf_preamble=r\"\"\"\\usepackage{mathptmx}\n",
    "    \\usepackage{charter}\n",
    "    \\renewcommand{\\familydefault}{\\sfdefault}\"\"\",\n",
    ")\n",
    "import numpy as np\n",
    "from matplotlib import pyplot as plt\n",
    "from rsmf import CustomFormatter\n",
    "\n",
    "\n",
    "plt.rcParams[\"font.family\"] = \"serif\"\n",
    "plt.rcParams[\"text.usetex\"] = True\n",
    "# )\n",
    "fig = formatter.figure()"
   ]
  },
  {
   "cell_type": "code",
   "execution_count": 2,
   "metadata": {},
   "outputs": [
    {
     "name": "stdout",
     "output_type": "stream",
     "text": [
      "['Solarize_Light2', '_classic_test_patch', '_mpl-gallery', '_mpl-gallery-nogrid', 'bmh', 'classic', 'dark_background', 'fast', 'fivethirtyeight', 'ggplot', 'grayscale', 'seaborn-v0_8', 'seaborn-v0_8-bright', 'seaborn-v0_8-colorblind', 'seaborn-v0_8-dark', 'seaborn-v0_8-dark-palette', 'seaborn-v0_8-darkgrid', 'seaborn-v0_8-deep', 'seaborn-v0_8-muted', 'seaborn-v0_8-notebook', 'seaborn-v0_8-paper', 'seaborn-v0_8-pastel', 'seaborn-v0_8-poster', 'seaborn-v0_8-talk', 'seaborn-v0_8-ticks', 'seaborn-v0_8-white', 'seaborn-v0_8-whitegrid', 'tableau-colorblind10']\n"
     ]
    }
   ],
   "source": [
    "print(plt.style.available)"
   ]
  },
  {
   "cell_type": "code",
   "execution_count": 3,
   "metadata": {},
   "outputs": [
    {
     "name": "stderr",
     "output_type": "stream",
     "text": [
      "/tmp/ipykernel_14715/1728207776.py:45: UserWarning: color is redundantly defined by the 'color' keyword argument and the fmt string \"k--\" (-> color='k'). The keyword argument will take precedence.\n",
      "  plt.plot(xlim, [r, r], \"k--\", linewidth=0.2, color=color)\n",
      "/tmp/ipykernel_14715/1728207776.py:45: UserWarning: color is redundantly defined by the 'color' keyword argument and the fmt string \"k--\" (-> color='k'). The keyword argument will take precedence.\n",
      "  plt.plot(xlim, [r, r], \"k--\", linewidth=0.2, color=color)\n",
      "/tmp/ipykernel_14715/1728207776.py:45: UserWarning: color is redundantly defined by the 'color' keyword argument and the fmt string \"k--\" (-> color='k'). The keyword argument will take precedence.\n",
      "  plt.plot(xlim, [r, r], \"k--\", linewidth=0.2, color=color)\n"
     ]
    }
   ],
   "source": [
    "# plt.style.use('ggplot')\n",
    "for setting in [\"3/4\", \"2/3\"]:\n",
    "    formatter.figure(aspect_ratio=0.8, width_ratio=0.49)\n",
    "    plt.cla()\n",
    "\n",
    "    import matplotlib.patches as mpatches\n",
    "\n",
    "    labels = []\n",
    "\n",
    "    def add_label(violin, label):\n",
    "        color = violin[\"bodies\"][0].get_facecolor().flatten()\n",
    "        labels.append((mpatches.Patch(color=color), label))\n",
    "\n",
    "    ns = sorted([int(n) for n in data if setting in data[n][\"1\"]])\n",
    "\n",
    "    for idx, r in enumerate([1, 0.95]):\n",
    "        ax = plt.gca()\n",
    "        # ns = list(range(8, 41, 4))\n",
    "        ratio = []\n",
    "\n",
    "        for n in ns:\n",
    "            ls = []\n",
    "            for i in range(1, 1000 + 1):\n",
    "                entry = data[str(n)][str(i)]\n",
    "                ls.append(entry[setting][str(r)] / entry[\"upper bound\"])\n",
    "            ratio.append(ls)\n",
    "\n",
    "        plots = ax.violinplot(ratio, showextrema=True, showmeans=True, widths=0.5)\n",
    "\n",
    "        add_label(plots, rf\"$\\alpha={r}$\")\n",
    "        color = f\"C{idx}\"\n",
    "\n",
    "        for pc in plots[\"bodies\"]:\n",
    "            pc.set_facecolor(color)\n",
    "            # pc.set_edgecolor(color)\n",
    "            # pc.set_alpha(0.6)\n",
    "        for partname in (\"cbars\", \"cmins\", \"cmaxes\"):\n",
    "            pc = plots[partname]\n",
    "            pc.set_edgecolor(color)\n",
    "            pc.set_linewidth(0.2)\n",
    "        plots[\"cmeans\"].set_edgecolor(color)\n",
    "        plots[\"cmeans\"].set_linewidth(2)\n",
    "\n",
    "        xlim = plt.xlim()\n",
    "        plt.plot(xlim, [r, r], \"k--\", linewidth=0.2, color=color)\n",
    "\n",
    "        plt.xlim(xlim)\n",
    "\n",
    "        plt.xticks(range(1, len(ns) + 1), ns)\n",
    "        plt.xlabel(\"$n$\")\n",
    "        plt.ylabel(\"approximation ratio\")\n",
    "        plt.tight_layout()\n",
    "\n",
    "    plt.ylim(0.92 - 0.005, 1.005)\n",
    "    plt.yticks(np.arange(0.92, 1.01, 0.02))\n",
    "    plt.tight_layout()\n",
    "    plt.legend(*zip(*labels), loc=\"lower right\")\n",
    "    plt.savefig(\n",
    "        \"fig/\" + f\"approx{setting}.pdf\".replace(\"/\", \"\"),\n",
    "        bbox_inches=\"tight\",\n",
    "        pad_inches=0,\n",
    "    )"
   ]
  },
  {
   "cell_type": "markdown",
   "metadata": {},
   "source": []
  },
  {
   "cell_type": "code",
   "execution_count": null,
   "metadata": {},
   "outputs": [],
   "source": [
    "plt.cla()\n",
    "ratio = np.array(ratio)\n",
    "plt.plot(ns, ratio.mean(axis=1), label=r\"$\\alpha=1\")\n",
    "# plt.fill_between(\n",
    "#     ns,\n",
    "#     ratio.min(axis=1),\n",
    "#     ratio.max(axis=1),\n",
    "#     alpha=0.3,\n",
    "# )\n",
    "\n",
    "plt.fill_between(\n",
    "    ns,\n",
    "    ratio.mean(axis=1) - ratio.std(axis=1),\n",
    "    ratio.mean(axis=1) + ratio.std(axis=1),\n",
    "    alpha=0.3,\n",
    ")\n",
    "\n",
    "for i in ratio:\n",
    "    assert max(i) <= 1\n",
    "\n",
    "plt.xlabel(\"$n$\")\n",
    "plt.ylabel(\"approximation ratio\")\n",
    "plt.legend()\n",
    "plt.tight_layout()\n",
    "plt.savefig(\"approx1_mean.pdf\", bbox_inches=\"tight\", pad_inches=0)"
   ]
  },
  {
   "cell_type": "code",
   "execution_count": null,
   "metadata": {},
   "outputs": [
    {
     "data": {
      "text/plain": [
       "<networkx.classes.graph.Graph at 0x7fe34768b6a0>"
      ]
     },
     "execution_count": 7,
     "metadata": {},
     "output_type": "execute_result"
    }
   ],
   "source": [
    "def set_seed(seed):\n",
    "    import random as rnd\n",
    "    import numpy as np\n",
    "\n",
    "    np.random.seed(seed)\n",
    "    rnd.seed(seed)\n",
    "\n",
    "\n",
    "set_seed(2)\n",
    "import networkx as nx\n",
    "\n",
    "nx.erdos_renyi_graph(n=8, p=0.8)"
   ]
  },
  {
   "cell_type": "code",
   "execution_count": null,
   "metadata": {},
   "outputs": [],
   "source": [
    "scaling = {}\n",
    "\n",
    "import itertools\n",
    "\n",
    "\n",
    "def read_chain(x):\n",
    "    with open(x, \"r\") as f:\n",
    "        return list(itertools.chain.from_iterable(map(eval, f.readlines())))\n",
    "\n",
    "\n",
    "scaling[\"3/4\"] = {0.95: read_chain(\"approx0.95\")}\n",
    "scaling[\"3/4\"][1] = read_chain(\"approx1\")\n",
    "\n",
    "scaling[\"2/3\"] = {0.95: read_chain(\"approx230.95\")}\n",
    "scaling[\"2/3\"][1] = read_chain(\"approx231\")\n",
    "scaling\n",
    "import json\n",
    "\n",
    "json.dump(scaling, open(\"data/scaling.json\", \"w\"))"
   ]
  },
  {
   "cell_type": "code",
   "execution_count": null,
   "metadata": {},
   "outputs": [],
   "source": []
  }
 ],
 "metadata": {
  "kernelspec": {
   "display_name": "base",
   "language": "python",
   "name": "python3"
  },
  "language_info": {
   "codemirror_mode": {
    "name": "ipython",
    "version": 3
   },
   "file_extension": ".py",
   "mimetype": "text/x-python",
   "name": "python",
   "nbconvert_exporter": "python",
   "pygments_lexer": "ipython3",
   "version": "3.10.9"
  },
  "orig_nbformat": 4
 },
 "nbformat": 4,
 "nbformat_minor": 2
}
